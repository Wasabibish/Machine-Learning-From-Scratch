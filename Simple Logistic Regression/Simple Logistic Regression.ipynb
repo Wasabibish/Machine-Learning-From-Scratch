{
  "cells": [
    {
      "cell_type": "markdown",
      "metadata": {
        "id": "R6DFe4wk7yv1"
      },
      "source": [
        "# TP 3 Regression linéaire\n",
        "Dans ce TP, nous aimerions prédire l'admission d'un étudiant à une specialité donnée selon ses notes dans deux matières.\n",
        "\n",
        "Pour ce faire, nous étudierons un ensemble de données avec l'admission  (y) et les notes des deux modules (X).\n",
        "\n",
        "La prédiction se fera avec l'agorithme de descente du gradient."
      ]
    },
    {
      "cell_type": "markdown",
      "metadata": {
        "id": "fZK_JAL57yv4"
      },
      "source": [
        "# Importation des librairies necessaires au travail"
      ]
    },
    {
      "cell_type": "code",
      "execution_count": null,
      "metadata": {
        "id": "IUSeHHRN7yv4"
      },
      "outputs": [],
      "source": [
        "import numpy as np\n",
        "import matplotlib.pyplot as plt\n"
      ]
    },
    {
      "cell_type": "markdown",
      "metadata": {
        "id": "yH2jekAT7yv5"
      },
      "source": [
        "# Lecture des fichiers de données\n",
        "Pour ce TP, nous allons lire les données à partir d'un fichier csv."
      ]
    },
    {
      "cell_type": "code",
      "execution_count": null,
      "metadata": {
        "colab": {
          "base_uri": "https://localhost:8080/"
        },
        "id": "nluzKtGh7yv5",
        "outputId": "4665a8a5-a3c5-4bcf-927e-6dbb5831ffaf"
      },
      "outputs": [
        {
          "data": {
            "text/plain": [
              "(100, 3)"
            ]
          },
          "execution_count": 38,
          "metadata": {},
          "output_type": "execute_result"
        }
      ],
      "source": [
        "# données\n",
        "data = np.genfromtxt('data.csv', delimiter=',', dtype=float)\n",
        "data = data.astype(int)\n",
        "data.shape"
      ]
    },
    {
      "cell_type": "markdown",
      "metadata": {
        "id": "zeeYRmCS7yv6"
      },
      "source": [
        "Dans ces données (data), la première colonne represente la première note, la deuxieme colonne la deuxième note et la troisième colonne represente l'admission à la specialité (1 admis 0 non admis).\n",
        "\n",
        "Chaque ligne represente un exemple de notre ensemble de données. \n",
        "\n",
        "Mettons ces données dans leus vecteurs correspondants."
      ]
    },
    {
      "cell_type": "code",
      "execution_count": null,
      "metadata": {
        "id": "MeqPRcoD7yv7"
      },
      "outputs": [],
      "source": [
        "# rajoutons l'ordonnée à l'origine theta 0\n",
        "intercept=np.ones((data.shape[0],1))\n",
        "X=np.column_stack((intercept,data[:,0:2]))\n",
        "y = data[:, 2];"
      ]
    },
    {
      "cell_type": "code",
      "execution_count": null,
      "metadata": {
        "colab": {
          "base_uri": "https://localhost:8080/"
        },
        "id": "EuF04Rxl7yv7",
        "outputId": "1018175b-95dd-44db-9884-582b79e6bc7e"
      },
      "outputs": [
        {
          "name": "stdout",
          "output_type": "stream",
          "text": [
            "X (100, 3)  y  (100,)\n"
          ]
        }
      ],
      "source": [
        "print('X', X.shape ,' y ', y.shape)"
      ]
    },
    {
      "cell_type": "markdown",
      "metadata": {
        "id": "tXS-lHSK7yv7"
      },
      "source": [
        "# Descente du Gradient : Préparation des fonctions"
      ]
    },
    {
      "cell_type": "markdown",
      "metadata": {
        "id": "Bhs7ZG1e7yv7"
      },
      "source": [
        "0- Fonction logistique (Sigmoid)"
      ]
    },
    {
      "cell_type": "code",
      "execution_count": null,
      "metadata": {
        "id": "MS-h0UZl7yv7"
      },
      "outputs": [],
      "source": [
        "def sigmoid(z):\n",
        "    # pour une valeur donnée, cette fonction calculera sa sigmoid\n",
        "   return (1/(1+np.exp(-z))) "
      ]
    },
    {
      "cell_type": "markdown",
      "metadata": {
        "id": "hcNbV2ly7yv8"
      },
      "source": [
        "1- Calcul du coût\n",
        "\n",
        "Cette fonction servira à calculer le cout $J(\\theta_0,\\theta_1)$\n",
        "\n",
        "Elle prendra l'ensemble de données d'apprentissage en entrée ainsi que les paramètres définis initialement"
      ]
    },
    {
      "cell_type": "code",
      "execution_count": null,
      "metadata": {
        "id": "-tVktpK27yv8"
      },
      "outputs": [],
      "source": [
        "def computeCost(X, y, theta):\n",
        "    # idéalement, tracer le coût à chaque itération pour s'assurer que la descente du gradient est correcte\n",
        "    \n",
        "    # calculer le coût avec et sans vectorisation, \n",
        "    # comparer le temps de traitement\n",
        "    m = len(X)\n",
        "    y = y.reshape(y.shape[0], 1)\n",
        "    predictions = sigmoid(np.matmul(X, theta))\n",
        "    return (sum((y)*np.log(predictions) + (1-y)*np.log(1-predictions))) / (-m)\n",
        "  "
      ]
    },
    {
      "cell_type": "markdown",
      "metadata": {
        "id": "zHA_qr9P7yv8"
      },
      "source": [
        "2- Fonction de la descente du gradient\n",
        "\n",
        "Cette fonction mettra à jour les paramètres $\\theta_0,\\theta_1$ jusqu'à convergence: atteinte du nombre d'itérations max, ou dérivée assez petite."
      ]
    },
    {
      "cell_type": "code",
      "execution_count": null,
      "metadata": {
        "id": "WWyTJic8BqCS"
      },
      "outputs": [],
      "source": [
        "def gradientDescent(X, y, theta, alphaa, iterations):\n",
        "  costs = np.zeros(iterations)\n",
        "  theta0 = np.zeros(iterations)\n",
        "  theta1 = np.zeros(iterations)\n",
        "  i = 0 \n",
        "  derivative = 100\n",
        "  seuil = 0.001 \n",
        "  m= len(X)\n",
        "  while((i<iterations) and (derivative>seuil)):\n",
        "    costs[i] = computeCost(X, y, theta)\n",
        "    predictions = sigmoid(np.matmul(X, theta))\n",
        "    predictions = predictions.reshape((predictions.shape[0],))\n",
        "    #print(f\"\\n Iteration {i} : theta = {theta}\")\n",
        "    theta0[i] = theta[0]\n",
        "    theta1[i] = theta[1]\n",
        "    diff = np.subtract(predictions, y)\n",
        "    derivative = np.matmul(np.transpose(X), diff).reshape((theta.shape[0],1))\n",
        "    i += 1\n",
        "    theta = theta - (alpha/m) * derivative\n",
        "    derivative = np.abs(derivative[0])\n",
        "  return  (theta, costs, theta0, theta1)"
      ]
    },
    {
      "cell_type": "markdown",
      "metadata": {
        "id": "DrS0HbGx7yv8"
      },
      "source": [
        "# Descente du Gradient : Appel des fonctions"
      ]
    },
    {
      "cell_type": "markdown",
      "metadata": {
        "id": "FOiYOEx_7yv9"
      },
      "source": [
        "Initialisation de $\\theta_0$ et $\\theta_1$"
      ]
    },
    {
      "cell_type": "code",
      "execution_count": null,
      "metadata": {
        "colab": {
          "base_uri": "https://localhost:8080/"
        },
        "id": "0VxD1yqg7yv9",
        "outputId": "0647b4f4-e1e9-40da-bd75-5d9ea33f03e3"
      },
      "outputs": [
        {
          "data": {
            "text/plain": [
              "array([[0.],\n",
              "       [0.],\n",
              "       [0.]])"
            ]
          },
          "execution_count": 44,
          "metadata": {},
          "output_type": "execute_result"
        }
      ],
      "source": [
        "n=X.shape[1]\n",
        "theta = np.zeros((n, 1))\n",
        "theta"
      ]
    },
    {
      "cell_type": "markdown",
      "metadata": {
        "id": "OnXLsYMo7yv9"
      },
      "source": [
        "Calculer le cout initial"
      ]
    },
    {
      "cell_type": "code",
      "execution_count": null,
      "metadata": {
        "colab": {
          "base_uri": "https://localhost:8080/"
        },
        "id": "WEUv2gFo7yv9",
        "outputId": "0a94fef3-99a3-4488-92da-a407114961a5"
      },
      "outputs": [
        {
          "data": {
            "text/plain": [
              "array([0.69314718])"
            ]
          },
          "execution_count": 45,
          "metadata": {},
          "output_type": "execute_result"
        }
      ],
      "source": [
        "initialCost=computeCost(X, y, theta)\n",
        "initialCost"
      ]
    },
    {
      "cell_type": "markdown",
      "metadata": {
        "id": "s3nz8dyr7yv9"
      },
      "source": [
        "Appel des la fonction de calcul du gradient"
      ]
    },
    {
      "cell_type": "code",
      "execution_count": null,
      "metadata": {
        "id": "ZcDo_X0W7yv-"
      },
      "outputs": [],
      "source": [
        "# paramètres avec nombre d'iteration = 1500\n",
        "iterations = 1500;\n",
        "alpha = 0.01;\n",
        "# Appel\n",
        "theta, costs, theta0, theta1 = gradientDescent(X, y, theta, alpha, iterations);"
      ]
    },
    {
      "cell_type": "markdown",
      "metadata": {
        "id": "HYntcsvL7yv-"
      },
      "source": [
        "Traçage de la fonction du coût"
      ]
    },
    {
      "cell_type": "markdown",
      "metadata": {
        "id": "NnrGnrPw7yv-"
      },
      "source": [
        "Notons que $\\theta^T  x$ est équivalent à $X  \\theta $ où $X= \\begin{pmatrix}\n",
        "..(x^{(1)})^T..\\\\\n",
        "..(x^{(2)})^T..\\\\\n",
        ".\\\\\n",
        ".\\\\\n",
        ".\\\\\n",
        "..(x^{(m)})^T..\n",
        "\\end{pmatrix} $"
      ]
    },
    {
      "cell_type": "markdown",
      "metadata": {
        "id": "HNBYF8TC7yv-"
      },
      "source": [
        "# Dessin de la limite de decision (Descision Boundary)\n",
        "Dans cette partie, nous aimerions dessiner la ligne separatrice d nos données"
      ]
    },
    {
      "cell_type": "code",
      "execution_count": null,
      "metadata": {
        "id": "75oLoMAd7yv-"
      },
      "outputs": [],
      "source": [
        "def drawLine(X, theta):\n",
        "    \n",
        "  decision_boundary = -(theta[0] + theta[1] * X[:,1])/theta[2]\n",
        "  plt.plot(X[:,1], decision_boundary)\n",
        "\n",
        "\n",
        "\n",
        "  plt.scatter(X[np.where(y==1),1],X[np.where(y==1),2], label=\"accepte\",marker ='o')\n",
        "  plt.scatter(X[np.where(y==0),1],X[np.where(y==0),2], label=\"non accepte\",marker ='x')\n",
        "\n",
        "  plt.xlabel('Note module 1')\n",
        "  plt.ylabel('Note module 2')"
      ]
    },
    {
      "cell_type": "markdown",
      "metadata": {
        "id": "A-57_d2p7yv_"
      },
      "source": [
        "# Affichage \n",
        "Graphe representant les acceptations selon les caracteristiques"
      ]
    },
    {
      "cell_type": "code",
      "execution_count": null,
      "metadata": {
        "colab": {
          "base_uri": "https://localhost:8080/"
        },
        "id": "4FCy_NzMsevy",
        "outputId": "0617756b-4715-456f-c42a-d8c2babe7c61"
      },
      "outputs": [
        {
          "data": {
            "text/plain": [
              "Text(0, 0.5, 'Note module 2')"
            ]
          },
          "execution_count": 48,
          "metadata": {},
          "output_type": "execute_result"
        },
        {
          "data": {
            "image/png": "[encoded data removed]",
            "text/plain": [
              "<Figure size 432x288 with 1 Axes>"
            ]
          },
          "metadata": {},
          "output_type": "display_data"
        }
      ],
      "source": [
        "  plt.scatter(X[np.where(y==1),1],X[np.where(y==1),2], label=\"accepte\",marker ='o')\n",
        "  plt.scatter(X[np.where(y==0),1],X[np.where(y==0),2], label=\"non accepte\",marker ='x')\n",
        "\n",
        "  plt.xlabel('Note module 1')\n",
        "  plt.ylabel('Note module 2')"
      ]
    },
    {
      "cell_type": "code",
      "execution_count": null,
      "metadata": {
        "colab": {
          "base_uri": "https://localhost:8080/"
        },
        "id": "eTlodIzHwHSk",
        "outputId": "dad69b5f-aa75-4d08-f801-05aaa1145b92"
      },
      "outputs": [
        {
          "data": {
            "image/png": "[encoded data removed]",
            "text/plain": [
              "<Figure size 432x288 with 1 Axes>"
            ]
          },
          "metadata": {},
          "output_type": "display_data"
        }
      ],
      "source": [
        "drawLine(X,theta)"
      ]
    },
    {
      "cell_type": "markdown",
      "metadata": {
        "id": "5cvPyl5luNUP"
      },
      "source": [
        "Nous remarquons que la ligne ne separe pas bien les données"
      ]
    },
    {
      "cell_type": "markdown",
      "metadata": {
        "id": "Fmioa6TQ7yv_"
      },
      "source": [
        "Traçage du coût en fonction de theta0 et theta1"
      ]
    },
    {
      "cell_type": "code",
      "execution_count": null,
      "metadata": {
        "colab": {
          "background_save": true
        },
        "id": "gHMAHriL7yv_"
      },
      "outputs": [],
      "source": [
        "def plot_cost_iterations(theta0, theta1, costs):\n",
        "  fig, ax1 = plt.subplots()\n",
        "\n",
        "\n",
        "  ax1.set_xlabel('Iterations')\n",
        "  ax1.tick_params(axis='y')\n",
        "\n",
        "  ax2 = ax1.twinx()\n",
        "  ax2.plot(costs, label='J(theta)')\n",
        "  ax1.tick_params(axis='y')\n",
        "\n",
        "  fig.legend();\n"
      ]
    },
    {
      "cell_type": "code",
      "execution_count": null,
      "metadata": {
        "colab": {
          "background_save": true,
          "base_uri": "https://localhost:8080/"
        },
        "id": "K6MJERpdT_zm",
        "outputId": "2cea57d8-3e37-48ff-b15e-fcf655f125da"
      },
      "outputs": [
        {
          "data": {
            "image/png": "[encoded data removed]",
            "text/plain": [
              "<Figure size 432x288 with 2 Axes>"
            ]
          },
          "metadata": {},
          "output_type": "display_data"
        }
      ],
      "source": [
        "plot_cost_iterations(theta0, theta1, costs)"
      ]
    },
    {
      "cell_type": "code",
      "execution_count": null,
      "metadata": {
        "colab": {
          "background_save": true
        },
        "id": "RNdj9oomunuH"
      },
      "outputs": [],
      "source": [
        "def plot_costs_theta(costs, thetha0, theta1):\n",
        "\n",
        "  fig = plt.figure()\n",
        "  ax = fig.gca(projection='3d')\n",
        "  z = costs\n",
        "  x = theta0\n",
        "  y = theta1\n",
        "  ax.plot(x, y, z, label='J (theta)')\n",
        "  ax.legend()\n",
        "\n",
        "plt.show()"
      ]
    },
    {
      "cell_type": "code",
      "execution_count": null,
      "metadata": {
        "colab": {
          "base_uri": "https://localhost:8080/"
        },
        "id": "GgPTUBEjupdP",
        "outputId": "7373dcfd-17a2-44e9-dc0b-8c543b106a76"
      },
      "outputs": [
        {
          "data": {
            "image/png": "[encoded data removed]",
            "text/plain": [
              "<Figure size 432x288 with 1 Axes>"
            ]
          },
          "metadata": {},
          "output_type": "display_data"
        }
      ],
      "source": [
        "plot_costs_theta(costs, theta0, theta1)"
      ]
    },
    {
      "cell_type": "markdown",
      "metadata": {
        "id": "8DzPXsSt7yv_"
      },
      "source": [
        "Prédire des valeurs de y"
      ]
    },
    {
      "cell_type": "code",
      "execution_count": null,
      "metadata": {
        "colab": {
          "background_save": true
        },
        "id": "GwWZMkIoUHSl"
      },
      "outputs": [],
      "source": [
        "# Predire pour des notes note1= 9 et note2=17\n"
      ]
    },
    {
      "cell_type": "code",
      "execution_count": null,
      "metadata": {
        "colab": {
          "background_save": true
        },
        "id": "fjPrpUOL7yv_"
      },
      "outputs": [],
      "source": [
        "def predict(X, theta, threshold = 0.5):\n",
        " \n",
        "  predictions = sigmoid(np.matmul(X, theta))\n",
        "  predictions [predictions >= threshold] = 1\n",
        "  predictions [predictions < threshold]  = 0\n",
        "  return predictions"
      ]
    },
    {
      "cell_type": "code",
      "execution_count": null,
      "metadata": {
        "colab": {
          "background_save": true,
          "base_uri": "https://localhost:8080/"
        },
        "id": "YW94smmXFTCZ",
        "outputId": "7ef6cad3-bad1-478c-a333-80e5ac015909"
      },
      "outputs": [
        {
          "data": {
            "text/plain": [
              "array([[1.]])"
            ]
          },
          "execution_count": null,
          "metadata": {},
          "output_type": "execute_result"
        }
      ],
      "source": [
        "test =np.array([[1,9,17]])\n",
        "predict(test, theta, 0.5)"
      ]
    },
    {
      "cell_type": "code",
      "execution_count": null,
      "metadata": {
        "colab": {
          "background_save": true
        },
        "id": "5VtmE4zwi_Gh"
      },
      "outputs": [],
      "source": [
        "y_pred=predict(X,theta,0.5)"
      ]
    },
    {
      "cell_type": "code",
      "execution_count": null,
      "metadata": {
        "colab": {
          "background_save": true
        },
        "id": "jcukxROeFrgY"
      },
      "outputs": [],
      "source": [
        "def score(y1, y2):\n",
        "\n",
        " y1 = y1.reshape(y1.shape[0], 1)\n",
        " y2 = y2.reshape(y2.shape[0], 1)\n",
        " y1_not = (1 - y1).reshape(y1.shape[0], 1)\n",
        " y2_not = (1 - y2).reshape(y1.shape[0], 1)\n",
        " a = np.multiply(y1_not, y2_not) + np.multiply(y1, y2)   \n",
        " \n",
        " ones_ = np.count_nonzero(a == 1)  \n",
        " return (ones_ / y1.shape[0]) * 100"
      ]
    },
    {
      "cell_type": "code",
      "execution_count": null,
      "metadata": {
        "colab": {
          "background_save": true,
          "base_uri": "https://localhost:8080/"
        },
        "id": "Ini9ZuQPFtHH",
        "outputId": "b04ede8e-3a6b-49c1-9497-b40a608b028a"
      },
      "outputs": [
        {
          "data": {
            "text/plain": [
              "92.0"
            ]
          },
          "execution_count": null,
          "metadata": {},
          "output_type": "execute_result"
        }
      ],
      "source": [
        "score(y, y_pred)"
      ]
    },
    {
      "cell_type": "markdown",
      "metadata": {
        "id": "3oJaRM4C7yv_"
      },
      "source": [
        "# Vérification de l'implementation\n",
        "Comparer vos algorithmes à ceux de scikitlearn"
      ]
    },
    {
      "cell_type": "code",
      "execution_count": null,
      "metadata": {
        "colab": {
          "background_save": true,
          "base_uri": "https://localhost:8080/"
        },
        "id": "aG4rUxaY7yv_",
        "outputId": "54617291-0a03-47dc-efb2-69cc269b4673"
      },
      "outputs": [
        {
          "data": {
            "text/plain": [
              "array([[-5.46675308e-08,  9.45433340e-01,  9.10032400e-01]])"
            ]
          },
          "execution_count": null,
          "metadata": {},
          "output_type": "execute_result"
        }
      ],
      "source": [
        "from sklearn.linear_model import LogisticRegression\n",
        "clf = LogisticRegression().fit(X, y)\n",
        "clf.coef_"
      ]
    },
    {
      "cell_type": "code",
      "execution_count": null,
      "metadata": {
        "colab": {
          "background_save": true,
          "base_uri": "https://localhost:8080/"
        },
        "id": "C2O82ufzG7UM",
        "outputId": "8d2a4b0d-2b50-40f5-8323-5622e4e80904"
      },
      "outputs": [
        {
          "data": {
            "text/plain": [
              "array([[-6.64988582],\n",
              "       [ 0.30891246],\n",
              "       [ 0.27336836]])"
            ]
          },
          "execution_count": null,
          "metadata": {},
          "output_type": "execute_result"
        }
      ],
      "source": [
        "theta"
      ]
    },
    {
      "cell_type": "markdown",
      "metadata": {
        "id": "xMxXFEvL7ywA"
      },
      "source": [
        "# Renforcement d'apprentissage\n",
        "Mettre ici toute idée qui pourrait renforcer votre apprentissage"
      ]
    },
    {
      "cell_type": "code",
      "execution_count": null,
      "metadata": {
        "colab": {
          "background_save": true
        },
        "id": "QTmxUwi67ywA"
      },
      "outputs": [],
      "source": [
        "#Nous pouvons varier le nombre d'iterations pour voir \n",
        "def test_iterations(iterations, alpha):\n",
        "  n=X.shape[1]\n",
        "  theta = np.zeros((n, 1))\n",
        "  theta, costs, theta0, theta1 = gradientDescent(X, y, theta, alpha, iterations);\n",
        "  y_pred = predict(X, theta, 0.5)\n",
        "  \n",
        "  print(f'\\nNombre iterations : {iterations}, alpha : {alpha}  accuracy : {score(y, y_pred)}')\n"
      ]
    },
    {
      "cell_type": "code",
      "execution_count": null,
      "metadata": {
        "colab": {
          "base_uri": "https://localhost:8080/"
        },
        "id": "nP7VbJVTWfYV",
        "outputId": "d72bf3d9-917f-4f5d-c202-36952644d1f6"
      },
      "outputs": [
        {
          "name": "stdout",
          "output_type": "stream",
          "text": [
            "\n",
            "Nombre iterations : 2500, alpha : 0.01  accuracy : 66.0\n",
            "\n",
            "Nombre iterations : 3500, alpha : 0.01  accuracy : 74.0\n",
            "\n",
            "Nombre iterations : 4500, alpha : 0.01  accuracy : 80.0\n",
            "\n",
            "Nombre iterations : 5500, alpha : 0.01  accuracy : 82.0\n",
            "\n",
            "Nombre iterations : 6500, alpha : 0.01  accuracy : 83.0\n",
            "\n",
            "Nombre iterations : 7500, alpha : 0.01  accuracy : 86.0\n",
            "\n",
            "Nombre iterations : 8500, alpha : 0.01  accuracy : 89.0\n",
            "\n",
            "Nombre iterations : 9500, alpha : 0.01  accuracy : 88.0\n",
            "\n",
            "Nombre iterations : 10500, alpha : 0.01  accuracy : 90.0\n",
            "\n",
            "Nombre iterations : 11500, alpha : 0.01  accuracy : 91.0\n",
            "\n",
            "Nombre iterations : 12500, alpha : 0.01  accuracy : 93.0\n",
            "\n",
            "Nombre iterations : 13500, alpha : 0.01  accuracy : 93.0\n",
            "\n",
            "Nombre iterations : 14500, alpha : 0.01  accuracy : 93.0\n"
          ]
        }
      ],
      "source": [
        "#Pour un nombre d'iterations = 2500, 3500, 4500, 5500\n",
        "for i in range(2500, 15000, 1000):\n",
        "  test_iterations(i, 0.01)"
      ]
    },
    {
      "cell_type": "code",
      "execution_count": null,
      "metadata": {
        "colab": {
          "background_save": true,
          "base_uri": "https://localhost:8080/"
        },
        "id": "fnZpjfp4XOy-",
        "outputId": "81a14074-307f-421c-df02-ca4e69e872f8"
      },
      "outputs": [
        {
          "name": "stdout",
          "output_type": "stream",
          "text": [
            "\n",
            "Nombre iterations : 15000, alpha : 0.0001  accuracy : 93.0\n",
            "\n",
            "Nombre iterations : 15000, alpha : 0.01  accuracy : 93.0\n",
            "\n",
            "Nombre iterations : 15000, alpha : 0  accuracy : 93.0\n",
            "\n",
            "Nombre iterations : 15000, alpha : 1  accuracy : 93.0\n"
          ]
        }
      ],
      "source": [
        "alphas = [0.0001, 0.01, 0,1]\n",
        "for i in alphas:\n",
        "  test_iterations(15000, i)"
      ]
    },
    {
      "cell_type": "markdown",
      "metadata": {
        "id": "4viKjfTrYDmS"
      },
      "source": [
        "Nous remarquons que l'accuracy augemente a chaque fois qu'on augemente le nombre d'iterations, contrairement a alpha, qui n'a aucune influence sur le resultat\n",
        "**Conclusion** : pour 15000 itérations, nous avons une accuracy qui va jusqu'a 93%"
      ]
    },
    {
      "cell_type": "markdown",
      "metadata": {
        "id": "QAUSN8aHvBJl"
      },
      "source": [
        "Nous allons confirmer cela en redessinat la ligne de séparation"
      ]
    },
    {
      "cell_type": "code",
      "execution_count": null,
      "metadata": {
        "colab": {
          "background_save": true
        },
        "id": "7uTz7nyWvMQ8"
      },
      "outputs": [],
      "source": [
        "# paramètres avec nombre d'iteration = 15000\n",
        "iterations = 15000;\n",
        "alpha = 0.01;\n",
        "# Appel\n",
        "theta, costs, theta0, theta1 = gradientDescent(X, y, theta, alpha, iterations);"
      ]
    },
    {
      "cell_type": "code",
      "execution_count": null,
      "metadata": {
        "colab": {
          "background_save": true,
          "base_uri": "https://localhost:8080/"
        },
        "id": "rinS503LvS-b",
        "outputId": "43c477a3-b982-424e-a641-f49719f21f63"
      },
      "outputs": [
        {
          "data": {
            "image/png": "[encoded data removed]",
            "text/plain": [
              "<Figure size 432x288 with 1 Axes>"
            ]
          },
          "metadata": {},
          "output_type": "display_data"
        }
      ],
      "source": [
        "drawLine(X,theta)"
      ]
    },
    {
      "cell_type": "code",
      "execution_count": null,
      "metadata": {
        "id": "i4JuXMyZwOQ3"
      },
      "outputs": [],
      "source": [
        "plot_cost_iterations(theta0, theta1, costs)"
      ]
    }
  ],
  "metadata": {
    "colab": {
      "collapsed_sections": [],
      "name": "TP_3_regression_Final.ipynb",
      "provenance": []
    },
    "kernelspec": {
      "display_name": "Python 3",
      "language": "python",
      "name": "python3"
    },
    "language_info": {
      "codemirror_mode": {
        "name": "ipython",
        "version": 3
      },
      "file_extension": ".py",
      "mimetype": "text/x-python",
      "name": "python",
      "nbconvert_exporter": "python",
      "pygments_lexer": "ipython3",
      "version": "3.7.3"
    }
  },
  "nbformat": 4,
  "nbformat_minor": 0
}
